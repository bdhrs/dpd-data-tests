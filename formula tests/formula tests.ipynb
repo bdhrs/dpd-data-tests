{
 "cells": [
  {
   "cell_type": "code",
   "execution_count": null,
   "metadata": {},
   "outputs": [],
   "source": [
    "import pandas as pd\n",
    "import re\n",
    "\n",
    "# open dpd.ods / in formulas, find \"\\=\\$Roots.\\$.\\$\" replace with \"\"\n",
    "# save as dpd-formulas.csv / tab sep / text delim \"\"\n",
    "# close formulas.ods!\n",
    "\n",
    "formulas_df = pd.read_csv(\"/home/bhikkhu/Bodhirasa/Dropbox/dpd/dpd data tests/formula tests/dpd-formulas.csv\", sep=\"\\t\", dtype=str, header=1)\n",
    "formulas_df.fillna(\"\", inplace=True)\n",
    "\n",
    "length = formulas_df.shape[0]\n",
    "formulas_df.columns\n",
    "\n",
    "for row in range(length): # length\n",
    "\tlisty = []\n",
    "\theadword = str(formulas_df.loc[row, \"Pāli1\"])\n",
    "\tskroot = str(formulas_df.loc[row, \"Sk Root\"])\n",
    "\n",
    "\tif skroot != \"\":\n",
    "\n",
    "\t\tlisty.append(formulas_df.loc[row, \"Sk Root\"])\n",
    "\t\tlisty.append(formulas_df.loc[row, \"Sk Root\"])\n",
    "\t\tlisty.append(formulas_df.loc[row, \"Cl\"])\n",
    "\t\tlisty.append(formulas_df.loc[row, \"Pāli Root\"])\n",
    "\t\tlisty.append(formulas_df.loc[row, \"Root In Comps\"])\n",
    "\t\tlisty.append(formulas_df.loc[row, \"V\"])\n",
    "\t\tlisty.append(formulas_df.loc[row, \"Grp\"])\n",
    "\t\tlisty.append(formulas_df.loc[row, \"Root Meaning\"])\n",
    "\n",
    "\t\tresult = all(element == listy[0] for element in listy)\n",
    "\t\tif (result):\n",
    "\t\t\tpass\n",
    "\t\telse:\n",
    "\t\t\tprint(f\"{headword} has identity issues\")"
   ]
  }
 ],
 "metadata": {
  "interpreter": {
   "hash": "8a94588eda9d64d9e9a351ab8144e55b1fabf5113b54e67dd26a8c27df0381b3"
  },
  "kernelspec": {
   "display_name": "Python 3.10.2 64-bit",
   "language": "python",
   "name": "python3"
  },
  "language_info": {
   "codemirror_mode": {
    "name": "ipython",
    "version": 3
   },
   "file_extension": ".py",
   "mimetype": "text/x-python",
   "name": "python",
   "nbconvert_exporter": "python",
   "pygments_lexer": "ipython3",
   "version": "3.10.2"
  },
  "orig_nbformat": 4
 },
 "nbformat": 4,
 "nbformat_minor": 2
}
